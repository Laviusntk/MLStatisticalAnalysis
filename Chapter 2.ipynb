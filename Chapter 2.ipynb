{
 "cells": [
  {
   "cell_type": "markdown",
   "id": "4c663ec0",
   "metadata": {},
   "source": [
    "## <span style=\"font-family: Arial; font-weight:bold;font-size:1.9em;color:#0e92ea\">Chapter 2: Introduction to Sampling</span>\n"
   ]
  },
  {
   "cell_type": "markdown",
   "id": "e2a62853",
   "metadata": {},
   "source": [
    "######  <span style=\"font-family: Arial; font-weight:bold;font-size:1.9em;color:#0e92ea\">Glossary</span>\n",
    "\n",
    "- `Population`: Entire collection of subjects to which we want information about.\n",
    "- `Parameter`: The quantity of the population we are interested in.\n",
    "- `Sample`: A subset of the population.\n",
    "- `Statistic`: The quantity we are interested in as measured in the sample.\n",
    "- `Selection Bias`: The selection bias is when the sample is imbalanced and favors a particular outcome. the sample does not correctly represent/reflect the entire population.\n",
    "- `Non-Response Bias`: The sample is missing a group of the population that wasnt able to provide a response to the survey, feedback, review etc because of some constraint. An example is when employees cant give feedback on an internal service/system during working hours because they are busy with other important tasks.\n",
    "- `Voluntory-Response Bias`: People give feedback/reviews when they are very happy or angry.\n",
    "\n",
    "\n",
    "\n"
   ]
  },
  {
   "cell_type": "markdown",
   "id": "7603a291",
   "metadata": {},
   "source": [
    "######  <span style=\"font-family: Arial; font-weight:bold;font-size:1.4em;color:#0e92ea\">Avoiding Bias</span>\n",
    "- `Simple Random Sample`: Randomly pick x subjects in the population\n",
    "- `Stratified Random Sampling`: Divide population into similar groups (strata) and randomly pick a simple random simple in each strata\n",
    "\n",
    "######  <span style=\"font-family: Arial; font-weight:bold;font-size:1.4em;color:#0e92ea\">Chance Error</span>\n",
    "- estimate = parameter + bias + chance error\n",
    "- the bigger the sample size the smaller the chance error\n",
    "\n",
    "######  <span style=\"font-family: Arial; font-weight:bold;font-size:1.4em;color:#0e92ea\">Observational Studies</span>\n",
    "- Correlation does not imply causation.\n",
    "- To test how much of this correlation results in the causation we need to perfom an experiment.\n",
    "- To do this we use two similar groups, one which will recieve the treatment and one which will not and we observe the results.\n"
   ]
  },
  {
   "cell_type": "code",
   "execution_count": null,
   "id": "3a6f6242",
   "metadata": {},
   "outputs": [],
   "source": []
  }
 ],
 "metadata": {
  "kernelspec": {
   "display_name": "Python 3 (ipykernel)",
   "language": "python",
   "name": "python3"
  },
  "language_info": {
   "codemirror_mode": {
    "name": "ipython",
    "version": 3
   },
   "file_extension": ".py",
   "mimetype": "text/x-python",
   "name": "python",
   "nbconvert_exporter": "python",
   "pygments_lexer": "ipython3",
   "version": "3.9.12"
  }
 },
 "nbformat": 4,
 "nbformat_minor": 5
}
