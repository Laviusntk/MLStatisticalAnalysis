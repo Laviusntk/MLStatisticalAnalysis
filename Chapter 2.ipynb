{
 "cells": [
  {
   "cell_type": "code",
   "execution_count": 1,
   "id": "50fd2a9d",
   "metadata": {},
   "outputs": [],
   "source": [
    "import sys\n",
    "sys.path.insert(1, '../common/')"
   ]
  },
  {
   "cell_type": "markdown",
   "id": "4c663ec0",
   "metadata": {},
   "source": [
    "## <span style=\"font-family: Arial; font-weight:bold;font-size:1.9em;color:#0e92ea\">Chapter 2: Introduction to Sampling</span>\n"
   ]
  },
  {
   "cell_type": "code",
   "execution_count": null,
   "id": "0dc9dc0d",
   "metadata": {},
   "outputs": [],
   "source": []
  }
 ],
 "metadata": {
  "kernelspec": {
   "display_name": "Python 3 (ipykernel)",
   "language": "python",
   "name": "python3"
  },
  "language_info": {
   "codemirror_mode": {
    "name": "ipython",
    "version": 3
   },
   "file_extension": ".py",
   "mimetype": "text/x-python",
   "name": "python",
   "nbconvert_exporter": "python",
   "pygments_lexer": "ipython3",
   "version": "3.9.7"
  }
 },
 "nbformat": 4,
 "nbformat_minor": 5
}
