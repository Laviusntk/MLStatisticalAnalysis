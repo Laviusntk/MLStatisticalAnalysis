{
 "cells": [
  {
   "cell_type": "code",
   "execution_count": 75,
   "id": "28a7a6b8",
   "metadata": {},
   "outputs": [],
   "source": [
    "import sys\n",
    "sys.path.insert(1, '../common/')"
   ]
  },
  {
   "cell_type": "markdown",
   "id": "1e5269ea",
   "metadata": {},
   "source": [
    "# <span style=\"font-family: Arial; font-weight:bold;font-size:1.9em;color:#0e92ea\">Introduction to Statistics</span>\n"
   ]
  },
  {
   "cell_type": "markdown",
   "id": "ce5ad2dd",
   "metadata": {},
   "source": [
    "####  <span style=\"font-family: Arial; font-weight:bold;font-size:1.9em;color:#0e92ea\"> Mean</span><br>\n",
    "This is the average of the numbers. For a data set $A =\\{{a_{1}, a_{2}, \\cdots , a_{n}\\}}$\n",
    "\n",
    "$\n",
    "{\\displaystyle Mean(A)={\\frac {1}{n}}\\sum _{i=1}^{n}a_{i}={\\frac {a_{1}+a_{2}+\\cdots +a_{n}}{n}}} = \\overline{a}\n",
    "$\n"
   ]
  },
  {
   "cell_type": "markdown",
   "id": "5c5a1d17",
   "metadata": {},
   "source": [
    "####  <span style=\"font-family: Arial; font-weight:bold;font-size:1.1em;color:#0e92ea\"> Impact of Multiplication on the mean:</span><br>\n",
    "\n",
    "💡 If we multiply all the numbers in a dataset by percentage p the mean will increase by that percentage.\n",
    "    \n",
    "`Proof`: <br>\n",
    "\n",
    "$\n",
    "{\\displaystyle Mean(A)= {\\frac {a_{1}+a_{2}+\\cdots +a_{n}}{n}}}\n",
    "$\n",
    "\n",
    "$\n",
    "{\\displaystyle Mean(A \\times p)= {\\frac {a_{1}\\times p  + a_{2}\\times p +\\cdots +a_{n}\\times p }{n}}}\n",
    "$\n",
    "\n",
    "$\n",
    "{\\displaystyle Mean(A \\times p)= p \\times ({\\frac {a_{1} + a_{2} +\\cdots +a_{n}}{n})}}\n",
    "$\n",
    "\n",
    "$\n",
    "{\\displaystyle Mean(A \\times p)= p \\times Mean(A)}\n",
    "$"
   ]
  },
  {
   "cell_type": "markdown",
   "id": "afa95a36",
   "metadata": {},
   "source": [
    "####  <span style=\"font-family: Arial; font-weight:bold;font-size:1.1em;color:#0e92ea\"> Impact of Addition on the mean:</span><br>\n",
    "\n",
    "💡 If we add a number `m` to all numbers in the dataset the mean will increase by `m`.\n",
    "    \n",
    "`Proof`: <br>\n",
    "\n",
    "$\n",
    "{\\displaystyle Mean(A)= {\\frac {a_{1}+a_{2}+\\cdots +a_{n}}{n}}}\n",
    "$\n",
    "\n",
    "$\n",
    "{\\displaystyle Mean(A + m)= {\\frac {(a_{1} + m)  + (a_{2} + m) +\\cdots + (a_{n} + m) }{n}}}\n",
    "$\n",
    "\n",
    "$\n",
    "{\\displaystyle Mean(A + m)= \\frac {m \\times n}{n} + {\\frac {a_{1}+a_{2}+\\cdots +a_{n}}{n}}}\n",
    "$\n",
    "\n",
    "$\n",
    "{\\displaystyle Mean(A + m) = m + Mean(A)}\n",
    "$\n",
    "\n",
    "\n",
    "The same rules apply for division and subtraction"
   ]
  },
  {
   "cell_type": "markdown",
   "id": "628b88b7",
   "metadata": {},
   "source": [
    "####  <span style=\"font-family: Arial; font-weight:bold;font-size:1.1em;color:#0e92ea\"> Mean is susceptible to outiers:</span><br>\n",
    "\n",
    "- If the dataset A = [40, 50, 50, 65, 40, 3] represented student marks for class A, then the mean would be 46%, if two students are added to the dataset with 100% marks the average will be 60%. If we used the mean as a way to check if most students are passing then in this case this would not give an accurate picture of that. "
   ]
  },
  {
   "cell_type": "markdown",
   "id": "67f21952",
   "metadata": {},
   "source": [
    "#### <span style=\"font-family: Arial; font-weight:bold;font-size:1.9em;color:#0e92ea\"> Median</span><br>\n",
    "\n",
    "This is a value in the dataset where half of the numbers in the dataset are less than the value and half are greater than it. When the `mean` and the `median` are the same the data is said to be symetrical. `Median` is commonly used for data that varies a lot since the `mean` would not give the most accurate picture of the dataset in that case. The median is not susceptible to outliers."
   ]
  },
  {
   "cell_type": "markdown",
   "id": "568794b7",
   "metadata": {},
   "source": [
    "#### <span style=\"font-family: Arial; font-weight:bold;font-size:1.9em;color:#0e92ea\"> Mode</span><br>\n",
    "\n",
    "This is the most occuring value in the dataset"
   ]
  },
  {
   "cell_type": "markdown",
   "id": "d39644a9",
   "metadata": {},
   "source": [
    "#### <span style=\"font-family: Arial; font-weight:bold;font-size:1.9em;color:#0e92ea\">Variance</span><br>\n",
    "\n",
    "Variance measures the spread in the dataset. A lower variance tells us that the data is skewed towards the mean, a larger variance tells us that the data more spread out.\n",
    "\n",
    "$\n",
    "variance(A) = \\frac{1}{n-1} \\displaystyle\\sum_{i=1}^{n}(x_i - \\overline{a})^2 = \\sigma^2 \n",
    "$"
   ]
  },
  {
   "cell_type": "markdown",
   "id": "80c595cd",
   "metadata": {},
   "source": [
    "#### <p style=\"font-family: Arial; font-weight:bold;font-size:1.9em;color:#0e92ea\">Standard Deviation</p>\n",
    "\n",
    "$\n",
    "std(A) = \\sqrt{\\frac{1}{n-1} \\sum_{i=1}^n (a_i - \\overline{a})^2} = \\sigma = \\sqrt{variance(A)}\n",
    "$"
   ]
  },
  {
   "cell_type": "markdown",
   "id": "a66631c9",
   "metadata": {},
   "source": [
    "##  <span style=\"font-family: Arial; font-weight:bold;font-size:1.9em;color:#0e92ea\"> Visualisations:</span><br>\n",
    "\n",
    "Visualisations help us to better describe data and extract information from it."
   ]
  },
  {
   "cell_type": "markdown",
   "id": "8a21f72f",
   "metadata": {},
   "source": [
    "<p style=\"font-family: Arial; font-weight:bold;font-size:1.4em;color:#0e92ea\">Boxplot</p>"
   ]
  },
  {
   "cell_type": "markdown",
   "id": "10718781",
   "metadata": {},
   "source": [
    "<p style=\"font-family: Arial; font-weight:bold;font-size:1.4em;color:#0e92ea\">Distribution Plot</p>\n",
    "\n",
    "\n",
    "\n",
    "<p style=\"font-family: Arial; font-weight:bold;font-size:1.4em;color:#0e92ea\">Dotplot</p>\n",
    "\n",
    "<p style=\"font-family: Arial; font-weight:bold;font-size:1.4em;color:#0e92ea\">Pie Chart</p>"
   ]
  }
 ],
 "metadata": {
  "kernelspec": {
   "display_name": "Python 3 (ipykernel)",
   "language": "python",
   "name": "python3"
  },
  "language_info": {
   "codemirror_mode": {
    "name": "ipython",
    "version": 3
   },
   "file_extension": ".py",
   "mimetype": "text/x-python",
   "name": "python",
   "nbconvert_exporter": "python",
   "pygments_lexer": "ipython3",
   "version": "3.9.7"
  }
 },
 "nbformat": 4,
 "nbformat_minor": 5
}
