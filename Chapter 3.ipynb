{
 "cells": [
  {
   "cell_type": "markdown",
   "id": "6bdc13f2",
   "metadata": {},
   "source": [
    "## <span style=\"font-family: Arial; font-weight:bold;font-size:1.9em;color:#0e92ea\">Chapter 2: Introduction to Probability</span><br><br>\n",
    "\n",
    "\n",
    "###  <span style=\"font-family: Arial; font-weight:bold;font-size:1.9em;color:#0e92ea\">Definition</span><br>\n",
    "\n",
    "Probability of an event A denoted: $ {\\displaystyle P(A)} $ is defined as a number between 0 and 1 used to measure the likelyhood of A happening.\n",
    "<br><br>\n",
    "\n",
    "###  <span style=\"font-family: Arial; font-weight:bold;font-size:1.9em;color:#0e92ea\">Computing Probablity</span><br><br>\n",
    "\n",
    "######  <span style=\"font-family: Arial; font-weight:bold;font-size:1.4em;color:#0e92ea\">Rule 1 : Complement Rule</span>\n",
    "\n",
    "If the likelyhood of A happening is $ {\\displaystyle P(A)} $, then the likelyhood that A will not happen is given by $ {\\displaystyle P(\\overline{A}) = 1 - P(A)} $ where $ {\\displaystyle \\overline{A} } $ denotes that A will not happen, this is also called the complement of A.\n",
    "<br><br>\n",
    "\n",
    "######  <span style=\"font-family: Arial; font-weight:bold;font-size:1.4em;color:#0e92ea\">Rule 2 : Equaly Likely outcomes</span>\n",
    "\n",
    "This rule says if there are N possible outcomes, and they are all equaly likely to occur then $ {\\displaystyle P(A) = 1/N} $\n",
    "<br><br>\n"
   ]
  },
  {
   "cell_type": "code",
   "execution_count": null,
   "id": "fd51c719",
   "metadata": {},
   "outputs": [],
   "source": []
  }
 ],
 "metadata": {
  "kernelspec": {
   "display_name": "Python 3 (ipykernel)",
   "language": "python",
   "name": "python3"
  },
  "language_info": {
   "codemirror_mode": {
    "name": "ipython",
    "version": 3
   },
   "file_extension": ".py",
   "mimetype": "text/x-python",
   "name": "python",
   "nbconvert_exporter": "python",
   "pygments_lexer": "ipython3",
   "version": "3.9.7"
  }
 },
 "nbformat": 4,
 "nbformat_minor": 5
}
