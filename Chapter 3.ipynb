{
 "cells": [
  {
   "cell_type": "markdown",
   "id": "6bdc13f2",
   "metadata": {},
   "source": [
    "## <span style=\"font-family: Arial; font-weight:bold;font-size:1.9em;color:#0e92ea\">Chapter 2: Introduction to Probability</span><br><br>\n",
    "\n",
    "\n",
    "###  <span style=\"font-family: Arial; font-weight:bold;font-size:1.9em;color:#0e92ea\">Definition</span><br>\n",
    "\n",
    "Probability of an event A denoted: $ {\\displaystyle P(A)} $ is defined as a number between 0 and 1 used to measure the likelyhood of A happening.\n",
    "<br><br>\n",
    "\n",
    "###  <span style=\"font-family: Arial; font-weight:bold;font-size:1.9em;color:#0e92ea\">Computing Probablity</span><br><br>\n",
    "\n",
    "######  <span style=\"font-family: Arial; font-weight:bold;font-size:1.4em;color:#0e92ea\">Rule 1 : Complement Rule</span>\n",
    "\n",
    "If the likelyhood of A happening is $ {\\displaystyle P(A)} $, then the likelyhood that A will not happen is given by :\n",
    "\n",
    "$ \n",
    "{\\displaystyle P(\\overline{A}) = 1 - P(A)}\n",
    "$ \n",
    "\n",
    "where $ {\\displaystyle \\overline{A} } $ denotes that A will not happen, this is also called the complement of A.\n",
    "<br><br>\n",
    "\n",
    "######  <span style=\"font-family: Arial; font-weight:bold;font-size:1.4em;color:#0e92ea\">Rule 2 : Equaly Likely outcomes</span>\n",
    "\n",
    "This rule says if there are N possible outcomes, and they are all equaly likely to occur then: <br> \n",
    "\n",
    "$ \n",
    "{\\displaystyle P(A) = \\frac {Number Of Outcomes In A}{N}}\n",
    "$\n",
    "<br><br>\n",
    "\n",
    "######  <span style=\"font-family: Arial; font-weight:bold;font-size:1.4em;color:#0e92ea\">Rule 3 : Mutually Exclusive</span>\n",
    "\n",
    "Event A and event B are mullay exclusive if they do not occur together. For example, if A is denotes an event where we get an even number when we roll a dice and B denotes an event where we get an Odd number, then A and B are mutually exclusive since a number cannot be both odd and even.<br>\n",
    "\n",
    "\n",
    "######  <span style=\"font-family: Arial; font-weight:bold;font-size:1.4em;color:#0e92ea\">Rule 4 : Addition Rule</span>\n",
    "\n",
    "If A and B are mutually exclusive then : <br> \n",
    "\n",
    "$ \n",
    "{\\displaystyle P(A) = P(A) + P(B)}\n",
    "$\n",
    "\n",
    "$\n",
    "{\\displaystyle P(B) = P(A) + P(B)}\n",
    "$ \n",
    "<br><br>\n"
   ]
  },
  {
   "cell_type": "code",
   "execution_count": null,
   "id": "5d0dfb9f",
   "metadata": {},
   "outputs": [],
   "source": []
  }
 ],
 "metadata": {
  "kernelspec": {
   "display_name": "Python 3 (ipykernel)",
   "language": "python",
   "name": "python3"
  },
  "language_info": {
   "codemirror_mode": {
    "name": "ipython",
    "version": 3
   },
   "file_extension": ".py",
   "mimetype": "text/x-python",
   "name": "python",
   "nbconvert_exporter": "python",
   "pygments_lexer": "ipython3",
   "version": "3.9.7"
  }
 },
 "nbformat": 4,
 "nbformat_minor": 5
}
